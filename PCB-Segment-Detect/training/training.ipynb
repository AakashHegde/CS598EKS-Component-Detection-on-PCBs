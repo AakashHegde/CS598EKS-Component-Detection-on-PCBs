{
 "cells": [
  {
   "cell_type": "code",
   "execution_count": null,
   "metadata": {},
   "outputs": [],
   "source": [
    "from ultralytics import YOLO\n",
    "\n",
    "# Load the model.\n",
    "model = YOLO('yolov8s.pt')\n",
    "\n",
    "# Training.\n",
    "results = model.train(\n",
    "   data='/home/aakashh2/Desktop/CS598/PCB-Detect-Kuo/data_resized/data.yaml',\n",
    "   imgsz=640,\n",
    "   epochs=500,\n",
    "   batch=8,\n",
    "   name='yolov8_custom')"
   ]
  },
  {
   "cell_type": "code",
   "execution_count": null,
   "metadata": {},
   "outputs": [],
   "source": [
    "from ultralytics import YOLO\n",
    "\n",
    "# Load the model.\n",
    "model = YOLO('/home/aakashh2/Desktop/CS598/PCB-Detect-Kuo/runs/detect/yolov8_custom3/weights/last.pt')\n",
    "\n",
    "# Training.\n",
    "results = model.train(\n",
    "   data='/home/aakashh2/Desktop/CS598/PCB-Detect-Kuo/data_resized/data.yaml',\n",
    "   imgsz=640,\n",
    "   epochs=100,\n",
    "   batch=8,\n",
    "   name='yolov8_custom',\n",
    "   resume=True)"
   ]
  },
  {
   "cell_type": "code",
   "execution_count": 4,
   "metadata": {},
   "outputs": [
    {
     "name": "stdout",
     "output_type": "stream",
     "text": [
      "\n",
      "image 1/1 /home/aakashh2/Desktop/CS598/PCBImage2.jpg: 640x640 1 button, 13 capacitors, 1 clock, 6 connectors, 12 ics, 4 leds, 1 pads, 22 resistors, 1 switch, 26.1ms\n",
      "Speed: 1.6ms preprocess, 26.1ms inference, 1.8ms postprocess per image at shape (1, 3, 640, 640)\n"
     ]
    }
   ],
   "source": [
    "from ultralytics import YOLO\n",
    "\n",
    "# Load the model.\n",
    "model = YOLO('/home/aakashh2/Desktop/CS598/cs598-project/PCB-Segment-Detect/runs/detect/yolov8_custom/weights/best.pt')\n",
    "\n",
    "image = '/home/aakashh2/Desktop/CS598/PCBImageHiRes.tif'\n",
    "image = '/home/aakashh2/Desktop/CS598/PCBImage2.jpg'\n",
    "# image = '/home/aakashh2/Desktop/CS598/PCB-Detect-Kuo/data_resized/test/images/ATTIOT_Bottom_jpg.rf.4ee47cc6a13085f06782f46325668283.jpg'\n",
    "# image = '/home/aakashh2/Desktop/CS598/cropped.png'\n",
    "results = model(image, conf=0.20, save_crop=False)\n",
    "\n",
    "# Process results list\n",
    "for result in results:\n",
    "    boxes = result.boxes  # Boxes object for bounding box outputs\n",
    "    masks = result.masks  # Masks object for segmentation masks outputs\n",
    "    keypoints = result.keypoints  # Keypoints object for pose outputs\n",
    "    probs = result.probs  # Probs object for classification outputs\n",
    "    result.show()  # display to screen\n",
    "    # result.save(filename='result.jpg')  # save to disk"
   ]
  },
  {
   "cell_type": "code",
   "execution_count": null,
   "metadata": {},
   "outputs": [],
   "source": []
  }
 ],
 "metadata": {
  "kernelspec": {
   "display_name": "Python 3",
   "language": "python",
   "name": "python3"
  },
  "language_info": {
   "codemirror_mode": {
    "name": "ipython",
    "version": 3
   },
   "file_extension": ".py",
   "mimetype": "text/x-python",
   "name": "python",
   "nbconvert_exporter": "python",
   "pygments_lexer": "ipython3",
   "version": "3.8.10"
  }
 },
 "nbformat": 4,
 "nbformat_minor": 2
}
